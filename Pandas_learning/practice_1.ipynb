{
 "cells": [
  {
   "cell_type": "markdown",
   "id": "a367b9de-91cc-4097-a902-24758020ab44",
   "metadata": {},
   "source": [
    "# First code of python in jupyter notebook\n"
   ]
  },
  {
   "cell_type": "code",
   "execution_count": 3,
   "id": "f320ab3f-3d40-4301-acd0-fad7708a2732",
   "metadata": {},
   "outputs": [
    {
     "name": "stdout",
     "output_type": "stream",
     "text": [
      "hello world\n"
     ]
    }
   ],
   "source": [
    "print(\"hello world\")"
   ]
  },
  {
   "cell_type": "code",
   "execution_count": 27,
   "id": "527f1a10-7618-469c-9fc4-7f7b8884a3b7",
   "metadata": {
    "editable": true,
    "slideshow": {
     "slide_type": ""
    },
    "tags": []
   },
   "outputs": [],
   "source": [
    "import pandas as pd"
   ]
  },
  {
   "cell_type": "markdown",
   "id": "31dc3dea-05e4-4e96-a2df-3077ef50b865",
   "metadata": {},
   "source": [
    "* Sereies(1 Dimensional)\n",
    "* DataFrames( 2 Dimensional)"
   ]
  },
  {
   "cell_type": "code",
   "execution_count": 29,
   "id": "659dcea3-eaa6-45b2-89e1-731a1ae2977a",
   "metadata": {},
   "outputs": [
    {
     "data": {
      "text/plain": [
       "0    1\n",
       "1    2\n",
       "2    3\n",
       "3    4\n",
       "4    5\n",
       "dtype: int64"
      ]
     },
     "execution_count": 29,
     "metadata": {},
     "output_type": "execute_result"
    }
   ],
   "source": [
    "# print(pd)\n",
    "Series_data = pd.Series([1,2,3,4,5]) #Sereies is a 1 dmension array\n",
    "Series_data\n"
   ]
  },
  {
   "cell_type": "code",
   "execution_count": 33,
   "id": "3b196072-cdaa-425a-a267-3df38043bd9e",
   "metadata": {},
   "outputs": [],
   "source": [
    "Data_Frame = pd.DataFrame({\n",
    "    \"Name\":[\"Abbas\",\"Sohail\",\"jasim\",\"fazal\"],\n",
    "    \"Reg\":[7701,7702,7703,7704],\n",
    "})\n",
    "    "
   ]
  },
  {
   "cell_type": "code",
   "execution_count": 34,
   "id": "ff6598ac-a33d-448e-96aa-01b32338ebd4",
   "metadata": {},
   "outputs": [
    {
     "data": {
      "text/html": [
       "<div>\n",
       "<style scoped>\n",
       "    .dataframe tbody tr th:only-of-type {\n",
       "        vertical-align: middle;\n",
       "    }\n",
       "\n",
       "    .dataframe tbody tr th {\n",
       "        vertical-align: top;\n",
       "    }\n",
       "\n",
       "    .dataframe thead th {\n",
       "        text-align: right;\n",
       "    }\n",
       "</style>\n",
       "<table border=\"1\" class=\"dataframe\">\n",
       "  <thead>\n",
       "    <tr style=\"text-align: right;\">\n",
       "      <th></th>\n",
       "      <th>Name</th>\n",
       "      <th>Reg</th>\n",
       "    </tr>\n",
       "  </thead>\n",
       "  <tbody>\n",
       "    <tr>\n",
       "      <th>0</th>\n",
       "      <td>Abbas</td>\n",
       "      <td>7701</td>\n",
       "    </tr>\n",
       "    <tr>\n",
       "      <th>1</th>\n",
       "      <td>Sohail</td>\n",
       "      <td>7702</td>\n",
       "    </tr>\n",
       "    <tr>\n",
       "      <th>2</th>\n",
       "      <td>jasim</td>\n",
       "      <td>7703</td>\n",
       "    </tr>\n",
       "    <tr>\n",
       "      <th>3</th>\n",
       "      <td>fazal</td>\n",
       "      <td>7704</td>\n",
       "    </tr>\n",
       "  </tbody>\n",
       "</table>\n",
       "</div>"
      ],
      "text/plain": [
       "     Name   Reg\n",
       "0   Abbas  7701\n",
       "1  Sohail  7702\n",
       "2   jasim  7703\n",
       "3   fazal  7704"
      ]
     },
     "execution_count": 34,
     "metadata": {},
     "output_type": "execute_result"
    }
   ],
   "source": [
    "Data_Frame"
   ]
  },
  {
   "cell_type": "code",
   "execution_count": 35,
   "id": "0172fd6e-b165-4aac-9483-e27332898bf5",
   "metadata": {},
   "outputs": [
    {
     "data": {
      "text/plain": [
       "Index(['Name', 'Reg'], dtype='object')"
      ]
     },
     "execution_count": 35,
     "metadata": {},
     "output_type": "execute_result"
    }
   ],
   "source": [
    "# how to change the columns names.\n",
    "Data_Frame.columns"
   ]
  },
  {
   "cell_type": "code",
   "execution_count": null,
   "id": "db5558af-93ff-4b35-affa-13a1903714fd",
   "metadata": {},
   "outputs": [],
   "source": []
  }
 ],
 "metadata": {
  "kernelspec": {
   "display_name": "Python 3 (ipykernel)",
   "language": "python",
   "name": "python3"
  },
  "language_info": {
   "codemirror_mode": {
    "name": "ipython",
    "version": 3
   },
   "file_extension": ".py",
   "mimetype": "text/x-python",
   "name": "python",
   "nbconvert_exporter": "python",
   "pygments_lexer": "ipython3",
   "version": "3.11.3"
  }
 },
 "nbformat": 4,
 "nbformat_minor": 5
}
