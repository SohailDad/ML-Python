{
 "cells": [
  {
   "cell_type": "code",
   "execution_count": null,
   "id": "f80125e4-3c04-4843-868e-d91b4e1f1a9c",
   "metadata": {},
   "outputs": [],
   "source": []
  }
 ],
 "metadata": {
  "kernelspec": {
   "display_name": "",
   "name": ""
  },
  "language_info": {
   "name": ""
  }
 },
 "nbformat": 4,
 "nbformat_minor": 5
}
