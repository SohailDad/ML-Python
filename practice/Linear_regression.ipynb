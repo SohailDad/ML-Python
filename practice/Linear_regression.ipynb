{
 "cells": [
  {
   "cell_type": "markdown",
   "id": "af48e08f-2a52-43d2-b568-c598af74d763",
   "metadata": {},
   "source": [
    "## Linear Regression"
   ]
  },
  {
   "cell_type": "code",
   "execution_count": 3,
   "id": "7031b1a2-e223-4883-adad-06d2af5cb658",
   "metadata": {},
   "outputs": [],
   "source": [
    "import numpy as np\n",
    "import matplotlib.pyplot as plt\n",
    "from scipy import stats"
   ]
  },
  {
   "cell_type": "code",
   "execution_count": 10,
   "id": "44f0042f-8d11-4704-887d-0a37bdfea225",
   "metadata": {},
   "outputs": [
    {
     "name": "stdout",
     "output_type": "stream",
     "text": [
      "---------------Slope--------------\n",
      "-1.7512877115526118\n",
      "---------------Intercept--------------\n",
      "103.10596026490066\n",
      "---------------r--------------\n",
      "-0.758591524376155\n",
      "---------------p--------------\n",
      "0.002646873922456106\n",
      "---------------std_error--------------\n",
      "0.453536157607742\n"
     ]
    }
   ],
   "source": [
    "x = [5,7,8,7,2,17,2,9,4,11,12,9,6]\n",
    "y = [99,86,87,88,111,86,103,87,94,78,77,85,86]\n",
    "\n",
    "slope, intercept, r, p, std_err = stats.linregress(x,y)\n",
    "\n",
    "print(\"---------------Slope--------------\")\n",
    "print(slope)\n",
    "print(\"---------------Intercept--------------\")\n",
    "print(intercept)\n",
    "print(\"---------------r--------------\")\n",
    "print(r)\n",
    "print(\"---------------p--------------\")\n",
    "print(p)\n",
    "print(\"---------------std_error--------------\")\n",
    "print(std_err)"
   ]
  },
  {
   "cell_type": "code",
   "execution_count": null,
   "id": "7fc66f34-8ae7-40f3-bd07-2a25c39780af",
   "metadata": {},
   "outputs": [],
   "source": [
    "def equation(x):\n",
    "    return slope * x + intercept\n",
    "\n",
    "myModel = "
   ]
  }
 ],
 "metadata": {
  "kernelspec": {
   "display_name": "Python 3 (ipykernel)",
   "language": "python",
   "name": "python3"
  },
  "language_info": {
   "codemirror_mode": {
    "name": "ipython",
    "version": 3
   },
   "file_extension": ".py",
   "mimetype": "text/x-python",
   "name": "python",
   "nbconvert_exporter": "python",
   "pygments_lexer": "ipython3",
   "version": "3.11.3"
  }
 },
 "nbformat": 4,
 "nbformat_minor": 5
}
