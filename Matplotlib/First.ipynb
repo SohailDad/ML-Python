{
 "cells": [
  {
   "cell_type": "code",
   "execution_count": null,
   "id": "c2065b0d-db1d-4bea-8583-aa87bddade53",
   "metadata": {},
   "outputs": [],
   "source": []
  }
 ],
 "metadata": {
  "kernelspec": {
   "display_name": "",
   "name": ""
  },
  "language_info": {
   "name": ""
  }
 },
 "nbformat": 4,
 "nbformat_minor": 5
}
