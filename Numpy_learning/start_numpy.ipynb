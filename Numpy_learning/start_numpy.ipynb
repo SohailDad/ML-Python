{
 "cells": [
  {
   "cell_type": "markdown",
   "id": "9badd47a-89fa-461b-be11-566ec2e96e6a",
   "metadata": {},
   "source": [
    "## Start NumPy"
   ]
  },
  {
   "cell_type": "code",
   "execution_count": 1,
   "id": "cb90eabe-575c-448c-b94b-3da8509ab958",
   "metadata": {},
   "outputs": [
    {
     "data": {
      "text/plain": [
       "array([1, 2, 3, 4, 5])"
      ]
     },
     "execution_count": 1,
     "metadata": {},
     "output_type": "execute_result"
    }
   ],
   "source": [
    "import numpy as np\n",
    "\n",
    "num_array = np.array([1,2,3,4,5])\n",
    "\n",
    "num_array"
   ]
  },
  {
   "cell_type": "code",
   "execution_count": 2,
   "id": "d0d3d146-a9ef-4816-a4c7-d11a8c098d19",
   "metadata": {},
   "outputs": [
    {
     "data": {
      "text/plain": [
       "numpy.ndarray"
      ]
     },
     "execution_count": 2,
     "metadata": {},
     "output_type": "execute_result"
    }
   ],
   "source": [
    "type(num_array)"
   ]
  },
  {
   "cell_type": "code",
   "execution_count": null,
   "id": "d962d43c-bb58-49c4-85ec-7c70f46263f3",
   "metadata": {},
   "outputs": [],
   "source": []
  }
 ],
 "metadata": {
  "kernelspec": {
   "display_name": "Python 3 (ipykernel)",
   "language": "python",
   "name": "python3"
  },
  "language_info": {
   "codemirror_mode": {
    "name": "ipython",
    "version": 3
   },
   "file_extension": ".py",
   "mimetype": "text/x-python",
   "name": "python",
   "nbconvert_exporter": "python",
   "pygments_lexer": "ipython3",
   "version": "3.11.3"
  }
 },
 "nbformat": 4,
 "nbformat_minor": 5
}
