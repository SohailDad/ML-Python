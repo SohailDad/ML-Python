{
 "cells": [
  {
   "cell_type": "markdown",
   "id": "9badd47a-89fa-461b-be11-566ec2e96e6a",
   "metadata": {},
   "source": [
    "## Start NumPy\n",
    "* NumPy is a Python library used for working with arrays.\n",
    "\n",
    "* It also has functions for working in domain of linear algebra, fourier transform, and matrices.\n",
    "\n",
    "* NumPy was created in 2005 by Travis Oliphant. It is an open source project and you can use it freely.\n",
    "\n",
    "* NumPy stands for Numerical Python."
   ]
  },
  {
   "cell_type": "code",
   "execution_count": 2,
   "id": "cb90eabe-575c-448c-b94b-3da8509ab958",
   "metadata": {},
   "outputs": [
    {
     "data": {
      "text/plain": [
       "array([1, 2, 3, 4, 5])"
      ]
     },
     "execution_count": 2,
     "metadata": {},
     "output_type": "execute_result"
    }
   ],
   "source": [
    "import numpy as np\n",
    "\n",
    "num_array = np.array([1,2,3,4,5])\n",
    "\n",
    "num_array"
   ]
  },
  {
   "cell_type": "code",
   "execution_count": 3,
   "id": "d0d3d146-a9ef-4816-a4c7-d11a8c098d19",
   "metadata": {},
   "outputs": [
    {
     "data": {
      "text/plain": [
       "numpy.ndarray"
      ]
     },
     "execution_count": 3,
     "metadata": {},
     "output_type": "execute_result"
    }
   ],
   "source": [
    "type(num_array)"
   ]
  },
  {
   "cell_type": "code",
   "execution_count": 4,
   "id": "d962d43c-bb58-49c4-85ec-7c70f46263f3",
   "metadata": {},
   "outputs": [
    {
     "data": {
      "text/plain": [
       "'1.26.1'"
      ]
     },
     "execution_count": 4,
     "metadata": {},
     "output_type": "execute_result"
    }
   ],
   "source": [
    "np.__version__ # version checking"
   ]
  },
  {
   "cell_type": "code",
   "execution_count": 5,
   "id": "04741a5a-9085-4bd9-9594-609340be6408",
   "metadata": {},
   "outputs": [],
   "source": [
    "arr_1D = np.array([1, 2, 3, 4, 5]) # one dimensional array"
   ]
  },
  {
   "cell_type": "code",
   "execution_count": 6,
   "id": "b59325b4-2a02-4ad6-8399-b6fd3045ce29",
   "metadata": {},
   "outputs": [
    {
     "data": {
      "text/plain": [
       "array([[1, 2, 3],\n",
       "       [4, 5, 6]])"
      ]
     },
     "execution_count": 6,
     "metadata": {},
     "output_type": "execute_result"
    }
   ],
   "source": [
    "arr_2D = np.array([[1, 2, 3], [4, 5, 6]]) # two dimensional array\n",
    "arr_2D"
   ]
  },
  {
   "cell_type": "code",
   "execution_count": 7,
   "id": "faf2bfae-5e84-4867-a510-41e336a376d5",
   "metadata": {},
   "outputs": [
    {
     "data": {
      "text/plain": [
       "array([[[1, 2, 3],\n",
       "        [4, 5, 6]],\n",
       "\n",
       "       [[7, 8, 9],\n",
       "        [1, 2, 3]]])"
      ]
     },
     "execution_count": 7,
     "metadata": {},
     "output_type": "execute_result"
    }
   ],
   "source": [
    "arr_3D = np.array([[[1,2,3],[4,5,6]],[[7,8,9],[1,2,3]]]) #3 dimensional array\n",
    "arr_3D"
   ]
  },
  {
   "cell_type": "code",
   "execution_count": 8,
   "id": "3acd4d72-7471-400c-949a-b3ffc25f0a34",
   "metadata": {},
   "outputs": [
    {
     "data": {
      "text/plain": [
       "1"
      ]
     },
     "execution_count": 8,
     "metadata": {},
     "output_type": "execute_result"
    }
   ],
   "source": [
    "arr_1D.ndim\n"
   ]
  },
  {
   "cell_type": "code",
   "execution_count": 9,
   "id": "61ddd6f0-c25f-445a-b097-cab453da877d",
   "metadata": {},
   "outputs": [
    {
     "data": {
      "text/plain": [
       "2"
      ]
     },
     "execution_count": 9,
     "metadata": {},
     "output_type": "execute_result"
    }
   ],
   "source": [
    "arr_2D.ndim"
   ]
  },
  {
   "cell_type": "code",
   "execution_count": 10,
   "id": "724afe83-3e82-42c3-952f-156273192a2b",
   "metadata": {},
   "outputs": [
    {
     "data": {
      "text/plain": [
       "3"
      ]
     },
     "execution_count": 10,
     "metadata": {},
     "output_type": "execute_result"
    }
   ],
   "source": [
    "arr_3D.ndim"
   ]
  },
  {
   "cell_type": "code",
   "execution_count": 11,
   "id": "8fc2f709-fe7a-4501-a0d0-069943b83535",
   "metadata": {},
   "outputs": [
    {
     "data": {
      "text/plain": [
       "4"
      ]
     },
     "execution_count": 11,
     "metadata": {},
     "output_type": "execute_result"
    }
   ],
   "source": [
    "arr_2D[1][0] "
   ]
  },
  {
   "cell_type": "code",
   "execution_count": 12,
   "id": "54cf0e22-a8c5-4daf-a98d-e061107f3dab",
   "metadata": {},
   "outputs": [
    {
     "data": {
      "text/plain": [
       "8"
      ]
     },
     "execution_count": 12,
     "metadata": {},
     "output_type": "execute_result"
    }
   ],
   "source": [
    "arr_2D[1][0] + arr_2D[1][0] # how to add 2 D array index value"
   ]
  },
  {
   "cell_type": "code",
   "execution_count": 13,
   "id": "b696af64-2f69-4afe-a983-4be8f29f6581",
   "metadata": {},
   "outputs": [
    {
     "data": {
      "text/plain": [
       "4"
      ]
     },
     "execution_count": 13,
     "metadata": {},
     "output_type": "execute_result"
    }
   ],
   "source": [
    "arr_2D[1,0]"
   ]
  },
  {
   "cell_type": "code",
   "execution_count": 14,
   "id": "78c4143d-8704-4f4a-90e8-65f7ed1b2b47",
   "metadata": {},
   "outputs": [
    {
     "data": {
      "text/plain": [
       "6"
      ]
     },
     "execution_count": 14,
     "metadata": {},
     "output_type": "execute_result"
    }
   ],
   "source": [
    "arr_3D[0,1,2] #this for third dimension"
   ]
  },
  {
   "cell_type": "code",
   "execution_count": 15,
   "id": "1b7e6ff3-6930-4bc4-9ca0-803ad15d7f08",
   "metadata": {},
   "outputs": [
    {
     "data": {
      "text/plain": [
       "array([[1, 2, 3],\n",
       "       [4, 5, 6]])"
      ]
     },
     "execution_count": 15,
     "metadata": {},
     "output_type": "execute_result"
    }
   ],
   "source": [
    "arr_2D"
   ]
  },
  {
   "cell_type": "markdown",
   "id": "538973b5-ea95-4822-9e96-893a133c49c9",
   "metadata": {},
   "source": [
    "### Negative indexing"
   ]
  },
  {
   "cell_type": "code",
   "execution_count": 16,
   "id": "a2e9ff8a-099e-4a22-b67a-06a17e3d73bc",
   "metadata": {},
   "outputs": [
    {
     "data": {
      "text/plain": [
       "6"
      ]
     },
     "execution_count": 16,
     "metadata": {},
     "output_type": "execute_result"
    }
   ],
   "source": [
    "arr_2D[1][-1]"
   ]
  },
  {
   "cell_type": "markdown",
   "id": "b9d77dea-f36e-4caa-8173-cb2f62c368e2",
   "metadata": {},
   "source": [
    "### Array Slicing"
   ]
  },
  {
   "cell_type": "code",
   "execution_count": 17,
   "id": "e59930a8-25a4-4835-a8b4-8e2fa254524d",
   "metadata": {},
   "outputs": [],
   "source": [
    "arr = np.array([1, 2, 3, 4, 5, 6, 7])"
   ]
  },
  {
   "cell_type": "code",
   "execution_count": 18,
   "id": "6b0bf74d-1594-4ce0-8a16-0a0cc59ff533",
   "metadata": {},
   "outputs": [
    {
     "data": {
      "text/plain": [
       "array([2, 3, 4])"
      ]
     },
     "execution_count": 18,
     "metadata": {},
     "output_type": "execute_result"
    }
   ],
   "source": [
    "arr[1:4]"
   ]
  },
  {
   "cell_type": "code",
   "execution_count": 19,
   "id": "61696937-b7f7-4d0e-a0f8-90cec3b87f63",
   "metadata": {},
   "outputs": [
    {
     "data": {
      "text/plain": [
       "array([1, 2, 3, 4, 5, 6])"
      ]
     },
     "execution_count": 19,
     "metadata": {},
     "output_type": "execute_result"
    }
   ],
   "source": [
    "arr[0:-1]"
   ]
  },
  {
   "cell_type": "code",
   "execution_count": 20,
   "id": "bb76f487-6984-4175-b812-e740161463eb",
   "metadata": {},
   "outputs": [
    {
     "data": {
      "text/plain": [
       "array([1, 3, 5, 7])"
      ]
     },
     "execution_count": 20,
     "metadata": {},
     "output_type": "execute_result"
    }
   ],
   "source": [
    "arr[::2]"
   ]
  },
  {
   "cell_type": "code",
   "execution_count": 21,
   "id": "278bac96-77b1-45ea-9bd4-d6b3fc6aafea",
   "metadata": {},
   "outputs": [
    {
     "data": {
      "text/plain": [
       "array([5, 6])"
      ]
     },
     "execution_count": 21,
     "metadata": {},
     "output_type": "execute_result"
    }
   ],
   "source": [
    "arr_2D[1, 1:4]"
   ]
  },
  {
   "cell_type": "code",
   "execution_count": 22,
   "id": "3f36cd49-eb23-4f28-8009-444ffd4083a0",
   "metadata": {},
   "outputs": [
    {
     "data": {
      "text/plain": [
       "dtype('int32')"
      ]
     },
     "execution_count": 22,
     "metadata": {},
     "output_type": "execute_result"
    }
   ],
   "source": [
    "arr.dtype"
   ]
  },
  {
   "cell_type": "code",
   "execution_count": 23,
   "id": "a5970307-4410-42f3-9189-65ca628c43ec",
   "metadata": {},
   "outputs": [
    {
     "data": {
      "text/plain": [
       "dtype('int32')"
      ]
     },
     "execution_count": 23,
     "metadata": {},
     "output_type": "execute_result"
    }
   ],
   "source": [
    "arr_3D.dtype"
   ]
  },
  {
   "cell_type": "code",
   "execution_count": 24,
   "id": "e748a06b-f596-48ff-a532-015b5c501276",
   "metadata": {},
   "outputs": [
    {
     "data": {
      "text/plain": [
       "array([1., 2., 3., 4., 5., 6., 7.])"
      ]
     },
     "execution_count": 24,
     "metadata": {},
     "output_type": "execute_result"
    }
   ],
   "source": [
    "arr.astype(float) #existing datetype into another datatype"
   ]
  },
  {
   "cell_type": "markdown",
   "id": "139ad348-1073-4053-8f3d-2dd7c21c79d9",
   "metadata": {},
   "source": [
    "## Copy vs View "
   ]
  },
  {
   "cell_type": "code",
   "execution_count": 30,
   "id": "512df095-de44-4b64-ac6e-8690a83c0cfc",
   "metadata": {},
   "outputs": [
    {
     "data": {
      "text/plain": [
       "array([42,  2,  3,  4,  5])"
      ]
     },
     "execution_count": 30,
     "metadata": {},
     "output_type": "execute_result"
    }
   ],
   "source": [
    "arr = np.array([1, 2, 3, 4, 5])\n",
    "x = arr.copy()   #The copy SHOULD NOT be affected by the changes made to the original array.\n",
    "arr[0] = 42\n",
    "arr"
   ]
  },
  {
   "cell_type": "code",
   "execution_count": 31,
   "id": "7fabf7d2-15df-4956-b86f-7853a751513a",
   "metadata": {},
   "outputs": [
    {
     "data": {
      "text/plain": [
       "array([1, 2, 3, 4, 5])"
      ]
     },
     "execution_count": 31,
     "metadata": {},
     "output_type": "execute_result"
    }
   ],
   "source": [
    "x"
   ]
  },
  {
   "cell_type": "markdown",
   "id": "d52326db-dfca-4e92-9afd-ba9fe6302ec3",
   "metadata": {},
   "source": [
    "#### View"
   ]
  },
  {
   "cell_type": "code",
   "execution_count": 32,
   "id": "f513231a-982f-4faf-93d3-c6bdd59bbbb8",
   "metadata": {},
   "outputs": [
    {
     "data": {
      "text/plain": [
       "array([42,  2,  3,  4,  5])"
      ]
     },
     "execution_count": 32,
     "metadata": {},
     "output_type": "execute_result"
    }
   ],
   "source": [
    "arr = np.array([1, 2, 3, 4, 5])\n",
    "x = arr.view()  #The view SHOULD be affected by the changes made to the original array.\n",
    "arr[0] = 42\n",
    "arr"
   ]
  },
  {
   "cell_type": "code",
   "execution_count": 33,
   "id": "f9ff0838-205e-4165-bb84-647dd4c8ad7b",
   "metadata": {},
   "outputs": [
    {
     "data": {
      "text/plain": [
       "array([42,  2,  3,  4,  5])"
      ]
     },
     "execution_count": 33,
     "metadata": {},
     "output_type": "execute_result"
    }
   ],
   "source": [
    "x"
   ]
  },
  {
   "cell_type": "code",
   "execution_count": 38,
   "id": "1ebc7991-8390-4aba-afa1-e0bb499cfc99",
   "metadata": {},
   "outputs": [
    {
     "data": {
      "text/plain": [
       "(2, 5)"
      ]
     },
     "execution_count": 38,
     "metadata": {},
     "output_type": "execute_result"
    }
   ],
   "source": [
    "arr = np.array([[1,2,3,4,5],[5,4,3,2,1]])\n",
    "arr.shape"
   ]
  },
  {
   "cell_type": "code",
   "execution_count": null,
   "id": "d97d6acb-8bf2-427b-a1d3-148e84b54bf6",
   "metadata": {},
   "outputs": [],
   "source": []
  }
 ],
 "metadata": {
  "kernelspec": {
   "display_name": "Python 3 (ipykernel)",
   "language": "python",
   "name": "python3"
  },
  "language_info": {
   "codemirror_mode": {
    "name": "ipython",
    "version": 3
   },
   "file_extension": ".py",
   "mimetype": "text/x-python",
   "name": "python",
   "nbconvert_exporter": "python",
   "pygments_lexer": "ipython3",
   "version": "3.11.3"
  }
 },
 "nbformat": 4,
 "nbformat_minor": 5
}
