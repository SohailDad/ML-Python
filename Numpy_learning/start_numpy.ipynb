{
 "cells": [
  {
   "cell_type": "markdown",
   "id": "9badd47a-89fa-461b-be11-566ec2e96e6a",
   "metadata": {},
   "source": [
    "## Start NumPy\n",
    "* NumPy is a Python library used for working with arrays.\n",
    "\n",
    "* It also has functions for working in domain of linear algebra, fourier transform, and matrices.\n",
    "\n",
    "* NumPy was created in 2005 by Travis Oliphant. It is an open source project and you can use it freely.\n",
    "\n",
    "* NumPy stands for Numerical Python."
   ]
  },
  {
   "cell_type": "code",
   "execution_count": 3,
   "id": "cb90eabe-575c-448c-b94b-3da8509ab958",
   "metadata": {},
   "outputs": [
    {
     "data": {
      "text/plain": [
       "array([1, 2, 3, 4, 5])"
      ]
     },
     "execution_count": 3,
     "metadata": {},
     "output_type": "execute_result"
    }
   ],
   "source": [
    "import numpy as np\n",
    "\n",
    "num_array = np.array([1,2,3,4,5])\n",
    "\n",
    "num_array"
   ]
  },
  {
   "cell_type": "code",
   "execution_count": 4,
   "id": "d0d3d146-a9ef-4816-a4c7-d11a8c098d19",
   "metadata": {},
   "outputs": [
    {
     "data": {
      "text/plain": [
       "numpy.ndarray"
      ]
     },
     "execution_count": 4,
     "metadata": {},
     "output_type": "execute_result"
    }
   ],
   "source": [
    "type(num_array)"
   ]
  },
  {
   "cell_type": "code",
   "execution_count": 5,
   "id": "d962d43c-bb58-49c4-85ec-7c70f46263f3",
   "metadata": {},
   "outputs": [
    {
     "data": {
      "text/plain": [
       "'1.26.1'"
      ]
     },
     "execution_count": 5,
     "metadata": {},
     "output_type": "execute_result"
    }
   ],
   "source": [
    "np.__version__ # version checking"
   ]
  },
  {
   "cell_type": "code",
   "execution_count": 7,
   "id": "04741a5a-9085-4bd9-9594-609340be6408",
   "metadata": {},
   "outputs": [],
   "source": [
    "arr_1D = np.array([1, 2, 3, 4, 5]) # one dimensional array"
   ]
  },
  {
   "cell_type": "code",
   "execution_count": 10,
   "id": "b59325b4-2a02-4ad6-8399-b6fd3045ce29",
   "metadata": {},
   "outputs": [
    {
     "data": {
      "text/plain": [
       "array([[1, 2, 3],\n",
       "       [4, 5, 6]])"
      ]
     },
     "execution_count": 10,
     "metadata": {},
     "output_type": "execute_result"
    }
   ],
   "source": [
    "arr_2D = np.array([[1, 2, 3], [4, 5, 6]]) # two dimensional array\n",
    "arr_2D"
   ]
  },
  {
   "cell_type": "code",
   "execution_count": 12,
   "id": "faf2bfae-5e84-4867-a510-41e336a376d5",
   "metadata": {},
   "outputs": [
    {
     "data": {
      "text/plain": [
       "array([[[1, 2, 3],\n",
       "        [4, 5, 6]],\n",
       "\n",
       "       [[7, 8, 9],\n",
       "        [1, 2, 3]]])"
      ]
     },
     "execution_count": 12,
     "metadata": {},
     "output_type": "execute_result"
    }
   ],
   "source": [
    "arr_3D = np.array([[[1,2,3],[4,5,6]],[[7,8,9],[1,2,3]]]) #3 dimensional array\n",
    "arr_3D"
   ]
  },
  {
   "cell_type": "code",
   "execution_count": 15,
   "id": "3acd4d72-7471-400c-949a-b3ffc25f0a34",
   "metadata": {},
   "outputs": [
    {
     "data": {
      "text/plain": [
       "3"
      ]
     },
     "execution_count": 15,
     "metadata": {},
     "output_type": "execute_result"
    }
   ],
   "source": [
    "arr_1D.ndim\n",
    "arr_2D.ndim\n",
    "arr_3D.ndim"
   ]
  },
  {
   "cell_type": "code",
   "execution_count": null,
   "id": "61ddd6f0-c25f-445a-b097-cab453da877d",
   "metadata": {},
   "outputs": [],
   "source": []
  }
 ],
 "metadata": {
  "kernelspec": {
   "display_name": "Python 3 (ipykernel)",
   "language": "python",
   "name": "python3"
  },
  "language_info": {
   "codemirror_mode": {
    "name": "ipython",
    "version": 3
   },
   "file_extension": ".py",
   "mimetype": "text/x-python",
   "name": "python",
   "nbconvert_exporter": "python",
   "pygments_lexer": "ipython3",
   "version": "3.11.3"
  }
 },
 "nbformat": 4,
 "nbformat_minor": 5
}
