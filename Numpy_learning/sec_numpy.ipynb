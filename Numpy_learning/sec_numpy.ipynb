{
 "cells": [
  {
   "cell_type": "markdown",
   "id": "8fafa4cd-039c-4ac7-86e1-b852ec759a29",
   "metadata": {},
   "source": [
    "## Random Numbers in NumPy"
   ]
  },
  {
   "cell_type": "code",
   "execution_count": 1,
   "id": "a3f04928-ecdd-4bc0-b903-900dcb7e3894",
   "metadata": {},
   "outputs": [
    {
     "data": {
      "text/plain": [
       "99"
      ]
     },
     "execution_count": 1,
     "metadata": {},
     "output_type": "execute_result"
    }
   ],
   "source": [
    "import numpy as np\n",
    "\n",
    "rand = np.random.randint(100) # predict nandom number\n",
    "rand"
   ]
  },
  {
   "cell_type": "code",
   "execution_count": 2,
   "id": "5fede502-2a0b-4a1c-80d2-0833e01af7ac",
   "metadata": {},
   "outputs": [
    {
     "data": {
      "text/plain": [
       "0.033787488652156195"
      ]
     },
     "execution_count": 2,
     "metadata": {},
     "output_type": "execute_result"
    }
   ],
   "source": [
    "float_rand = np.random.rand() # predict random float value\n",
    "\n",
    "float_rand"
   ]
  },
  {
   "cell_type": "code",
   "execution_count": 3,
   "id": "dd685934-9062-498e-814d-86ac3b59abcb",
   "metadata": {},
   "outputs": [
    {
     "data": {
      "text/plain": [
       "array([71, 97, 95, 43, 84, 23, 29])"
      ]
     },
     "execution_count": 3,
     "metadata": {},
     "output_type": "execute_result"
    }
   ],
   "source": [
    "x=np.random.randint(100, size=(7)) # for array\n",
    "\n",
    "x"
   ]
  },
  {
   "cell_type": "code",
   "execution_count": 4,
   "id": "9ff0bfa4-296d-4ef7-bd71-1ae2c6a962df",
   "metadata": {},
   "outputs": [
    {
     "data": {
      "text/plain": [
       "array([[87, 57, 24, 18,  2],\n",
       "       [15, 85, 77, 40, 78],\n",
       "       [13, 95, 88, 49, 25]])"
      ]
     },
     "execution_count": 4,
     "metadata": {},
     "output_type": "execute_result"
    }
   ],
   "source": [
    "x = np.random.randint(100, size=(3, 5)) # for 2-D array\n",
    "x"
   ]
  },
  {
   "cell_type": "markdown",
   "id": "3b7d70d6-601c-40fb-b8ed-6032e3c1ec02",
   "metadata": {},
   "source": [
    "### Data Distribution\n",
    "* Data Distribution is a list of all possible values, and how often each value occurs."
   ]
  },
  {
   "cell_type": "code",
   "execution_count": 7,
   "id": "37c4e0d5-6467-4f35-85bc-b052c5e4ec11",
   "metadata": {},
   "outputs": [
    {
     "data": {
      "text/plain": [
       "array([7, 7, 7, 3, 7, 3, 5, 3, 5, 5, 7, 5, 5, 5, 7, 7, 7, 7, 5, 5, 7, 7,\n",
       "       7, 3, 7, 7, 3, 7, 5, 7, 7, 7, 7, 3, 7, 7, 5, 7, 7, 7, 5, 7, 7, 5,\n",
       "       7, 5, 5, 7, 7, 7, 5, 5, 3, 7, 5, 5, 5, 7, 7, 7, 3, 5, 7, 7, 7, 3,\n",
       "       7, 7, 7, 7, 5, 3, 5, 5, 7, 7, 5, 7, 7, 5, 7, 5, 7, 3, 7, 3, 5, 7,\n",
       "       7, 5, 7, 7, 7, 3, 5, 7, 7, 5, 7, 7])"
      ]
     },
     "execution_count": 7,
     "metadata": {},
     "output_type": "execute_result"
    }
   ],
   "source": [
    "#Generate a 1-D array containing 100 values, where each value has to be 3, 5, 7 or 9.\n",
    "# The probability for the value to be 3 is set to be 0.1\n",
    "# The probability for the value to be 5 is set to be 0.3\n",
    "# The probability for the value to be 7 is set to be 0.6\n",
    "# The probability for the value to be 9 is set to be 0\n",
    "\n",
    "x = np.random.choice([3, 5, 7, 9], p=[0.1, 0.3, 0.6, 0.0], size=(100))\n",
    "x"
   ]
  },
  {
   "cell_type": "code",
   "execution_count": 10,
   "id": "32add8ec-149b-4674-b8b3-cd956ec01dbf",
   "metadata": {},
   "outputs": [
    {
     "data": {
      "text/plain": [
       "array([[7, 3, 5, 7, 5],\n",
       "       [7, 5, 7, 5, 7],\n",
       "       [5, 5, 7, 7, 5]])"
      ]
     },
     "execution_count": 10,
     "metadata": {},
     "output_type": "execute_result"
    }
   ],
   "source": [
    "# 2-D array\n",
    "x = np.random.choice([3, 5, 7, 9], p=[0.1, 0.3, 0.6, 0.0], size=(3, 5))\n",
    "x\n"
   ]
  },
  {
   "cell_type": "code",
   "execution_count": null,
   "id": "5eff10f2-3e73-452c-9577-a0409917ebdf",
   "metadata": {},
   "outputs": [],
   "source": []
  }
 ],
 "metadata": {
  "kernelspec": {
   "display_name": "Python 3 (ipykernel)",
   "language": "python",
   "name": "python3"
  },
  "language_info": {
   "codemirror_mode": {
    "name": "ipython",
    "version": 3
   },
   "file_extension": ".py",
   "mimetype": "text/x-python",
   "name": "python",
   "nbconvert_exporter": "python",
   "pygments_lexer": "ipython3",
   "version": "3.11.3"
  }
 },
 "nbformat": 4,
 "nbformat_minor": 5
}
