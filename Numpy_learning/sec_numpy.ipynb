{
 "cells": [
  {
   "cell_type": "markdown",
   "id": "8fafa4cd-039c-4ac7-86e1-b852ec759a29",
   "metadata": {},
   "source": [
    "## Random Numbers in NumPy"
   ]
  },
  {
   "cell_type": "code",
   "execution_count": 5,
   "id": "a3f04928-ecdd-4bc0-b903-900dcb7e3894",
   "metadata": {},
   "outputs": [
    {
     "data": {
      "text/plain": [
       "56"
      ]
     },
     "execution_count": 5,
     "metadata": {},
     "output_type": "execute_result"
    }
   ],
   "source": [
    "import numpy as np\n",
    "\n",
    "rand = np.random.randint(100) # predict nandom number\n",
    "rand"
   ]
  },
  {
   "cell_type": "code",
   "execution_count": 9,
   "id": "5fede502-2a0b-4a1c-80d2-0833e01af7ac",
   "metadata": {},
   "outputs": [
    {
     "data": {
      "text/plain": [
       "0.302601475317843"
      ]
     },
     "execution_count": 9,
     "metadata": {},
     "output_type": "execute_result"
    }
   ],
   "source": [
    "float_rand = np.random.rand() # predict random float value\n",
    "\n",
    "float_rand"
   ]
  },
  {
   "cell_type": "code",
   "execution_count": 12,
   "id": "dd685934-9062-498e-814d-86ac3b59abcb",
   "metadata": {},
   "outputs": [
    {
     "data": {
      "text/plain": [
       "array([77, 90, 64,  9, 73,  6, 50])"
      ]
     },
     "execution_count": 12,
     "metadata": {},
     "output_type": "execute_result"
    }
   ],
   "source": [
    "x=np.random.randint(100, size=(7)) # for array\n",
    "\n",
    "x"
   ]
  },
  {
   "cell_type": "code",
   "execution_count": 14,
   "id": "9ff0bfa4-296d-4ef7-bd71-1ae2c6a962df",
   "metadata": {},
   "outputs": [
    {
     "data": {
      "text/plain": [
       "array([[59, 83, 95, 24, 74],\n",
       "       [71, 39, 90, 56, 92],\n",
       "       [74, 62, 82, 95, 64]])"
      ]
     },
     "execution_count": 14,
     "metadata": {},
     "output_type": "execute_result"
    }
   ],
   "source": [
    "x = np.random.randint(100, size=(3, 5)) # for 2-D array\n",
    "x"
   ]
  },
  {
   "cell_type": "code",
   "execution_count": null,
   "id": "27986229-a106-487b-a7b4-7de15a4123cd",
   "metadata": {},
   "outputs": [],
   "source": []
  }
 ],
 "metadata": {
  "kernelspec": {
   "display_name": "Python 3 (ipykernel)",
   "language": "python",
   "name": "python3"
  },
  "language_info": {
   "codemirror_mode": {
    "name": "ipython",
    "version": 3
   },
   "file_extension": ".py",
   "mimetype": "text/x-python",
   "name": "python",
   "nbconvert_exporter": "python",
   "pygments_lexer": "ipython3",
   "version": "3.11.3"
  }
 },
 "nbformat": 4,
 "nbformat_minor": 5
}
