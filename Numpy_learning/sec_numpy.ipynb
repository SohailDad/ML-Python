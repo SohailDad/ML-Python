{
 "cells": [
  {
   "cell_type": "markdown",
   "id": "8fafa4cd-039c-4ac7-86e1-b852ec759a29",
   "metadata": {},
   "source": [
    "## Random Numbers in NumPy"
   ]
  },
  {
   "cell_type": "code",
   "execution_count": 1,
   "id": "a3f04928-ecdd-4bc0-b903-900dcb7e3894",
   "metadata": {},
   "outputs": [
    {
     "data": {
      "text/plain": [
       "91"
      ]
     },
     "execution_count": 1,
     "metadata": {},
     "output_type": "execute_result"
    }
   ],
   "source": [
    "import numpy as np\n",
    "\n",
    "rand = np.random.randint(100) # predict nandom number\n",
    "rand"
   ]
  },
  {
   "cell_type": "code",
   "execution_count": 2,
   "id": "5fede502-2a0b-4a1c-80d2-0833e01af7ac",
   "metadata": {},
   "outputs": [
    {
     "data": {
      "text/plain": [
       "0.40591020620106255"
      ]
     },
     "execution_count": 2,
     "metadata": {},
     "output_type": "execute_result"
    }
   ],
   "source": [
    "float_rand = np.random.rand() # predict random float value\n",
    "\n",
    "float_rand"
   ]
  },
  {
   "cell_type": "code",
   "execution_count": 3,
   "id": "dd685934-9062-498e-814d-86ac3b59abcb",
   "metadata": {},
   "outputs": [
    {
     "data": {
      "text/plain": [
       "array([ 2, 88, 26, 48, 84, 46, 80])"
      ]
     },
     "execution_count": 3,
     "metadata": {},
     "output_type": "execute_result"
    }
   ],
   "source": [
    "x=np.random.randint(100, size=(7)) # for array\n",
    "\n",
    "x"
   ]
  },
  {
   "cell_type": "code",
   "execution_count": 4,
   "id": "9ff0bfa4-296d-4ef7-bd71-1ae2c6a962df",
   "metadata": {},
   "outputs": [
    {
     "data": {
      "text/plain": [
       "array([[63, 90, 48,  6,  9],\n",
       "       [93, 55, 73, 73, 94],\n",
       "       [66, 35, 23, 26,  1]])"
      ]
     },
     "execution_count": 4,
     "metadata": {},
     "output_type": "execute_result"
    }
   ],
   "source": [
    "x = np.random.randint(100, size=(3, 5)) # for 2-D array\n",
    "x"
   ]
  },
  {
   "cell_type": "markdown",
   "id": "3b7d70d6-601c-40fb-b8ed-6032e3c1ec02",
   "metadata": {},
   "source": [
    "### Data Distribution\n",
    "* Data Distribution is a list of all possible values, and how often each value occurs."
   ]
  },
  {
   "cell_type": "code",
   "execution_count": 5,
   "id": "37c4e0d5-6467-4f35-85bc-b052c5e4ec11",
   "metadata": {},
   "outputs": [
    {
     "data": {
      "text/plain": [
       "array([5, 3, 7, 5, 5, 3, 7, 5, 5, 5, 7, 5, 7, 3, 3, 5, 5, 5, 7, 7, 3, 7,\n",
       "       5, 5, 5, 7, 7, 5, 3, 7, 7, 5, 7, 7, 5, 7, 7, 5, 3, 5, 7, 7, 7, 5,\n",
       "       5, 7, 7, 7, 7, 7, 7, 5, 7, 7, 7, 7, 7, 5, 5, 5, 3, 7, 7, 7, 3, 5,\n",
       "       7, 7, 7, 7, 5, 7, 5, 7, 5, 5, 5, 7, 7, 5, 7, 5, 3, 7, 3, 7, 3, 7,\n",
       "       7, 7, 7, 3, 7, 5, 5, 5, 5, 7, 5, 5])"
      ]
     },
     "execution_count": 5,
     "metadata": {},
     "output_type": "execute_result"
    }
   ],
   "source": [
    "#Generate a 1-D array containing 100 values, where each value has to be 3, 5, 7 or 9.\n",
    "# The probability for the value to be 3 is set to be 0.1\n",
    "# The probability for the value to be 5 is set to be 0.3\n",
    "# The probability for the value to be 7 is set to be 0.6\n",
    "# The probability for the value to be 9 is set to be 0\n",
    "\n",
    "x = np.random.choice([3, 5, 7, 9], p=[0.1, 0.3, 0.6, 0.0], size=(100))\n",
    "x"
   ]
  },
  {
   "cell_type": "code",
   "execution_count": 6,
   "id": "32add8ec-149b-4674-b8b3-cd956ec01dbf",
   "metadata": {},
   "outputs": [
    {
     "data": {
      "text/plain": [
       "array([[5, 5, 3, 3, 7],\n",
       "       [3, 7, 7, 7, 7],\n",
       "       [5, 5, 7, 7, 7]])"
      ]
     },
     "execution_count": 6,
     "metadata": {},
     "output_type": "execute_result"
    }
   ],
   "source": [
    "# 2-D array\n",
    "x = np.random.choice([3, 5, 7, 9], p=[0.1, 0.3, 0.6, 0.0], size=(3, 5))\n",
    "x\n"
   ]
  },
  {
   "cell_type": "code",
   "execution_count": 10,
   "id": "5eff10f2-3e73-452c-9577-a0409917ebdf",
   "metadata": {},
   "outputs": [
    {
     "data": {
      "text/plain": [
       "array([4, 1, 5, 3, 2])"
      ]
     },
     "execution_count": 10,
     "metadata": {},
     "output_type": "execute_result"
    }
   ],
   "source": [
    "arr = np.array([1,2,3,4,5])\n",
    "np.random.shuffle(arr) #The shuffle() method makes changes to the original array.\n",
    "arr"
   ]
  },
  {
   "cell_type": "markdown",
   "id": "0111f6fb-fcfe-4781-a751-ee1fe5b979ca",
   "metadata": {},
   "source": [
    "## ufunc sipmle arithmatic "
   ]
  },
  {
   "cell_type": "code",
   "execution_count": 11,
   "id": "7c1557e3-d6a1-4ecc-a5ca-d8758abde01b",
   "metadata": {},
   "outputs": [
    {
     "data": {
      "text/plain": [
       "array([6, 6, 6, 6, 6])"
      ]
     },
     "execution_count": 11,
     "metadata": {},
     "output_type": "execute_result"
    }
   ],
   "source": [
    "a = np.array([1,2,3,4,5])\n",
    "b = np.array([5,4,3,2,1])\n",
    "\n",
    "addition = np.add(a,b)\n",
    "addition"
   ]
  },
  {
   "cell_type": "code",
   "execution_count": 12,
   "id": "6bd36527-2851-4586-9017-c7a6f286c90b",
   "metadata": {},
   "outputs": [
    {
     "data": {
      "text/plain": [
       "array([-4, -2,  0,  2,  4])"
      ]
     },
     "execution_count": 12,
     "metadata": {},
     "output_type": "execute_result"
    }
   ],
   "source": [
    "subtraction = np.subtract(a,b)\n",
    "subtraction"
   ]
  },
  {
   "cell_type": "code",
   "execution_count": 13,
   "id": "7cd44844-7e63-4f05-9ddb-3b2e1b4d34d1",
   "metadata": {},
   "outputs": [
    {
     "data": {
      "text/plain": [
       "array([5, 8, 9, 8, 5])"
      ]
     },
     "execution_count": 13,
     "metadata": {},
     "output_type": "execute_result"
    }
   ],
   "source": [
    "multipliaction = np.multiply(a,b)\n",
    "multipliaction"
   ]
  },
  {
   "cell_type": "code",
   "execution_count": 14,
   "id": "802f3b48-79df-474d-8f72-1f4467754e5a",
   "metadata": {},
   "outputs": [
    {
     "data": {
      "text/plain": [
       "array([0.2, 0.5, 1. , 2. , 5. ])"
      ]
     },
     "execution_count": 14,
     "metadata": {},
     "output_type": "execute_result"
    }
   ],
   "source": [
    "division = np.divide(a,b)\n",
    "division"
   ]
  },
  {
   "cell_type": "code",
   "execution_count": 16,
   "id": "6c4dda5d-97a7-438f-9d40-a46ea45867f0",
   "metadata": {},
   "outputs": [
    {
     "data": {
      "text/plain": [
       "(array([0, 0, 1, 2, 5]), array([1, 2, 0, 0, 0]))"
      ]
     },
     "execution_count": 16,
     "metadata": {},
     "output_type": "execute_result"
    }
   ],
   "source": [
    "mod = np.divmod(a,b)\n",
    "mod"
   ]
  },
  {
   "cell_type": "markdown",
   "id": "e4a6c1b1-b81a-4b98-965a-82191a360147",
   "metadata": {},
   "source": [
    "### ufunc rounding Decimals"
   ]
  },
  {
   "cell_type": "code",
   "execution_count": 17,
   "id": "a5b25735-b115-410c-91c5-8bba7ed88320",
   "metadata": {},
   "outputs": [
    {
     "data": {
      "text/plain": [
       "3.167"
      ]
     },
     "execution_count": 17,
     "metadata": {},
     "output_type": "execute_result"
    }
   ],
   "source": [
    "arr = np.around(3.1666, 3)\n",
    "arr"
   ]
  },
  {
   "cell_type": "code",
   "execution_count": 19,
   "id": "3a31067b-7397-49ae-aa35-fbcd7c2e6366",
   "metadata": {},
   "outputs": [
    {
     "data": {
      "text/plain": [
       "33.0"
      ]
     },
     "execution_count": 19,
     "metadata": {},
     "output_type": "execute_result"
    }
   ],
   "source": [
    "arr = np.floor(33.342) # The floor() function rounds off decimal to nearest lower integer.\n",
    "arr"
   ]
  },
  {
   "cell_type": "code",
   "execution_count": 21,
   "id": "7a4ab3a6-1ad8-498e-a3e0-bb927568cb6c",
   "metadata": {},
   "outputs": [
    {
     "data": {
      "text/plain": [
       "34.0"
      ]
     },
     "execution_count": 21,
     "metadata": {},
     "output_type": "execute_result"
    }
   ],
   "source": [
    "arr = np.ceil(33.842)  # The ceil() function rounds off decimal to nearest upper integer.\n",
    "arr"
   ]
  },
  {
   "cell_type": "code",
   "execution_count": null,
   "id": "011bb918-d5eb-4efd-bb84-538da265ce99",
   "metadata": {},
   "outputs": [],
   "source": []
  }
 ],
 "metadata": {
  "kernelspec": {
   "display_name": "Python 3 (ipykernel)",
   "language": "python",
   "name": "python3"
  },
  "language_info": {
   "codemirror_mode": {
    "name": "ipython",
    "version": 3
   },
   "file_extension": ".py",
   "mimetype": "text/x-python",
   "name": "python",
   "nbconvert_exporter": "python",
   "pygments_lexer": "ipython3",
   "version": "3.11.3"
  }
 },
 "nbformat": 4,
 "nbformat_minor": 5
}
